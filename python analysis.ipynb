{
 "cells": [
  {
   "cell_type": "code",
   "execution_count": 1,
   "id": "9d99cb01",
   "metadata": {},
   "outputs": [
    {
     "data": {
      "text/html": [
       "<div>\n",
       "<style scoped>\n",
       "    .dataframe tbody tr th:only-of-type {\n",
       "        vertical-align: middle;\n",
       "    }\n",
       "\n",
       "    .dataframe tbody tr th {\n",
       "        vertical-align: top;\n",
       "    }\n",
       "\n",
       "    .dataframe thead th {\n",
       "        text-align: right;\n",
       "    }\n",
       "</style>\n",
       "<table border=\"1\" class=\"dataframe\">\n",
       "  <thead>\n",
       "    <tr style=\"text-align: right;\">\n",
       "      <th></th>\n",
       "      <th>University Rank</th>\n",
       "      <th>Name of University</th>\n",
       "      <th>Location</th>\n",
       "      <th>No of student</th>\n",
       "      <th>No of student per staff</th>\n",
       "      <th>International Student</th>\n",
       "      <th>Female:Male Ratio</th>\n",
       "      <th>OverAll Score</th>\n",
       "      <th>Teaching Score</th>\n",
       "      <th>Research Score</th>\n",
       "      <th>Citations Score</th>\n",
       "      <th>Industry Income Score</th>\n",
       "      <th>International Outlook Score</th>\n",
       "    </tr>\n",
       "  </thead>\n",
       "  <tbody>\n",
       "    <tr>\n",
       "      <th>0</th>\n",
       "      <td>1</td>\n",
       "      <td>University of Oxford</td>\n",
       "      <td>United Kingdom</td>\n",
       "      <td>20,965</td>\n",
       "      <td>10.6</td>\n",
       "      <td>42%</td>\n",
       "      <td>48 : 52</td>\n",
       "      <td>96.4</td>\n",
       "      <td>92.3</td>\n",
       "      <td>99.7</td>\n",
       "      <td>99.0</td>\n",
       "      <td>74.9</td>\n",
       "      <td>96.2</td>\n",
       "    </tr>\n",
       "    <tr>\n",
       "      <th>1</th>\n",
       "      <td>2</td>\n",
       "      <td>Harvard University</td>\n",
       "      <td>United States</td>\n",
       "      <td>21,887</td>\n",
       "      <td>9.6</td>\n",
       "      <td>25%</td>\n",
       "      <td>50 : 50</td>\n",
       "      <td>95.2</td>\n",
       "      <td>94.8</td>\n",
       "      <td>99.0</td>\n",
       "      <td>99.3</td>\n",
       "      <td>49.5</td>\n",
       "      <td>80.5</td>\n",
       "    </tr>\n",
       "    <tr>\n",
       "      <th>2</th>\n",
       "      <td>3</td>\n",
       "      <td>University of Cambridge</td>\n",
       "      <td>United Kingdom</td>\n",
       "      <td>20,185</td>\n",
       "      <td>11.3</td>\n",
       "      <td>39%</td>\n",
       "      <td>47 : 53</td>\n",
       "      <td>94.8</td>\n",
       "      <td>90.9</td>\n",
       "      <td>99.5</td>\n",
       "      <td>97.0</td>\n",
       "      <td>54.2</td>\n",
       "      <td>95.8</td>\n",
       "    </tr>\n",
       "    <tr>\n",
       "      <th>3</th>\n",
       "      <td>3</td>\n",
       "      <td>Stanford University</td>\n",
       "      <td>United States</td>\n",
       "      <td>16,164</td>\n",
       "      <td>7.1</td>\n",
       "      <td>24%</td>\n",
       "      <td>46 : 54</td>\n",
       "      <td>94.8</td>\n",
       "      <td>94.2</td>\n",
       "      <td>96.7</td>\n",
       "      <td>99.8</td>\n",
       "      <td>65.0</td>\n",
       "      <td>79.8</td>\n",
       "    </tr>\n",
       "    <tr>\n",
       "      <th>4</th>\n",
       "      <td>5</td>\n",
       "      <td>Massachusetts Institute of Technology</td>\n",
       "      <td>United States</td>\n",
       "      <td>11,415</td>\n",
       "      <td>8.2</td>\n",
       "      <td>33%</td>\n",
       "      <td>40 : 60</td>\n",
       "      <td>94.2</td>\n",
       "      <td>90.7</td>\n",
       "      <td>93.6</td>\n",
       "      <td>99.8</td>\n",
       "      <td>90.9</td>\n",
       "      <td>89.3</td>\n",
       "    </tr>\n",
       "  </tbody>\n",
       "</table>\n",
       "</div>"
      ],
      "text/plain": [
       "  University Rank                     Name of University        Location  \\\n",
       "0               1                   University of Oxford  United Kingdom   \n",
       "1               2                     Harvard University   United States   \n",
       "2               3                University of Cambridge  United Kingdom   \n",
       "3               3                    Stanford University   United States   \n",
       "4               5  Massachusetts Institute of Technology   United States   \n",
       "\n",
       "  No of student  No of student per staff International Student  \\\n",
       "0        20,965                     10.6                   42%   \n",
       "1        21,887                      9.6                   25%   \n",
       "2        20,185                     11.3                   39%   \n",
       "3        16,164                      7.1                   24%   \n",
       "4        11,415                      8.2                   33%   \n",
       "\n",
       "  Female:Male Ratio OverAll Score  Teaching Score  Research Score  \\\n",
       "0           48 : 52          96.4            92.3            99.7   \n",
       "1           50 : 50          95.2            94.8            99.0   \n",
       "2           47 : 53          94.8            90.9            99.5   \n",
       "3           46 : 54          94.8            94.2            96.7   \n",
       "4           40 : 60          94.2            90.7            93.6   \n",
       "\n",
       "   Citations Score  Industry Income Score  International Outlook Score  \n",
       "0             99.0                   74.9                         96.2  \n",
       "1             99.3                   49.5                         80.5  \n",
       "2             97.0                   54.2                         95.8  \n",
       "3             99.8                   65.0                         79.8  \n",
       "4             99.8                   90.9                         89.3  "
      ]
     },
     "execution_count": 1,
     "metadata": {},
     "output_type": "execute_result"
    }
   ],
   "source": [
    "import pandas as pd\n",
    "file = r\"C:\\Users\\HP\\Downloads\\World+University+Rankings+2023 (1).csv\"\n",
    "df = pd.read_csv(file)\n",
    "df.head()"
   ]
  },
  {
   "cell_type": "code",
   "execution_count": 2,
   "id": "47b0aa85",
   "metadata": {},
   "outputs": [
    {
     "data": {
      "text/plain": [
       "University Rank                  0\n",
       "Name of University               0\n",
       "Location                       162\n",
       "No of student                    0\n",
       "No of student per staff          1\n",
       "International Student            0\n",
       "Female:Male Ratio               81\n",
       "OverAll Score                  512\n",
       "Teaching Score                 512\n",
       "Research Score                 512\n",
       "Citations Score                512\n",
       "Industry Income Score          512\n",
       "International Outlook Score    512\n",
       "dtype: int64"
      ]
     },
     "execution_count": 2,
     "metadata": {},
     "output_type": "execute_result"
    }
   ],
   "source": [
    "df[\"No of student\"] = df[\"No of student\"].str.replace(\",\",\"\").astype(int)\n",
    "df.dtypes\n",
    "df.isnull().sum()"
   ]
  },
  {
   "cell_type": "code",
   "execution_count": 3,
   "id": "36b861ec",
   "metadata": {},
   "outputs": [
    {
     "data": {
      "text/html": [
       "<div>\n",
       "<style scoped>\n",
       "    .dataframe tbody tr th:only-of-type {\n",
       "        vertical-align: middle;\n",
       "    }\n",
       "\n",
       "    .dataframe tbody tr th {\n",
       "        vertical-align: top;\n",
       "    }\n",
       "\n",
       "    .dataframe thead th {\n",
       "        text-align: right;\n",
       "    }\n",
       "</style>\n",
       "<table border=\"1\" class=\"dataframe\">\n",
       "  <thead>\n",
       "    <tr style=\"text-align: right;\">\n",
       "      <th></th>\n",
       "      <th>University Rank</th>\n",
       "      <th>Name of University</th>\n",
       "      <th>Location</th>\n",
       "      <th>No of student</th>\n",
       "      <th>No of student per staff</th>\n",
       "      <th>Percentage International Student</th>\n",
       "      <th>Female:Male Ratio</th>\n",
       "      <th>OverAll Score</th>\n",
       "      <th>Teaching Score</th>\n",
       "      <th>Research Score</th>\n",
       "      <th>Citations Score</th>\n",
       "      <th>Industry Income Score</th>\n",
       "      <th>International Outlook Score</th>\n",
       "    </tr>\n",
       "  </thead>\n",
       "  <tbody>\n",
       "    <tr>\n",
       "      <th>0</th>\n",
       "      <td>1</td>\n",
       "      <td>University of Oxford</td>\n",
       "      <td>United Kingdom</td>\n",
       "      <td>20965</td>\n",
       "      <td>10.6</td>\n",
       "      <td>42</td>\n",
       "      <td>48 : 52</td>\n",
       "      <td>96.4</td>\n",
       "      <td>92.3</td>\n",
       "      <td>99.7</td>\n",
       "      <td>99.0</td>\n",
       "      <td>74.9</td>\n",
       "      <td>96.2</td>\n",
       "    </tr>\n",
       "    <tr>\n",
       "      <th>1</th>\n",
       "      <td>2</td>\n",
       "      <td>Harvard University</td>\n",
       "      <td>United States</td>\n",
       "      <td>21887</td>\n",
       "      <td>9.6</td>\n",
       "      <td>25</td>\n",
       "      <td>50 : 50</td>\n",
       "      <td>95.2</td>\n",
       "      <td>94.8</td>\n",
       "      <td>99.0</td>\n",
       "      <td>99.3</td>\n",
       "      <td>49.5</td>\n",
       "      <td>80.5</td>\n",
       "    </tr>\n",
       "    <tr>\n",
       "      <th>2</th>\n",
       "      <td>3</td>\n",
       "      <td>University of Cambridge</td>\n",
       "      <td>United Kingdom</td>\n",
       "      <td>20185</td>\n",
       "      <td>11.3</td>\n",
       "      <td>39</td>\n",
       "      <td>47 : 53</td>\n",
       "      <td>94.8</td>\n",
       "      <td>90.9</td>\n",
       "      <td>99.5</td>\n",
       "      <td>97.0</td>\n",
       "      <td>54.2</td>\n",
       "      <td>95.8</td>\n",
       "    </tr>\n",
       "    <tr>\n",
       "      <th>3</th>\n",
       "      <td>3</td>\n",
       "      <td>Stanford University</td>\n",
       "      <td>United States</td>\n",
       "      <td>16164</td>\n",
       "      <td>7.1</td>\n",
       "      <td>24</td>\n",
       "      <td>46 : 54</td>\n",
       "      <td>94.8</td>\n",
       "      <td>94.2</td>\n",
       "      <td>96.7</td>\n",
       "      <td>99.8</td>\n",
       "      <td>65.0</td>\n",
       "      <td>79.8</td>\n",
       "    </tr>\n",
       "    <tr>\n",
       "      <th>4</th>\n",
       "      <td>5</td>\n",
       "      <td>Massachusetts Institute of Technology</td>\n",
       "      <td>United States</td>\n",
       "      <td>11415</td>\n",
       "      <td>8.2</td>\n",
       "      <td>33</td>\n",
       "      <td>40 : 60</td>\n",
       "      <td>94.2</td>\n",
       "      <td>90.7</td>\n",
       "      <td>93.6</td>\n",
       "      <td>99.8</td>\n",
       "      <td>90.9</td>\n",
       "      <td>89.3</td>\n",
       "    </tr>\n",
       "  </tbody>\n",
       "</table>\n",
       "</div>"
      ],
      "text/plain": [
       "  University Rank                     Name of University        Location  \\\n",
       "0               1                   University of Oxford  United Kingdom   \n",
       "1               2                     Harvard University   United States   \n",
       "2               3                University of Cambridge  United Kingdom   \n",
       "3               3                    Stanford University   United States   \n",
       "4               5  Massachusetts Institute of Technology   United States   \n",
       "\n",
       "   No of student  No of student per staff Percentage International Student  \\\n",
       "0          20965                     10.6                               42   \n",
       "1          21887                      9.6                               25   \n",
       "2          20185                     11.3                               39   \n",
       "3          16164                      7.1                               24   \n",
       "4          11415                      8.2                               33   \n",
       "\n",
       "  Female:Male Ratio OverAll Score  Teaching Score  Research Score  \\\n",
       "0           48 : 52          96.4            92.3            99.7   \n",
       "1           50 : 50          95.2            94.8            99.0   \n",
       "2           47 : 53          94.8            90.9            99.5   \n",
       "3           46 : 54          94.8            94.2            96.7   \n",
       "4           40 : 60          94.2            90.7            93.6   \n",
       "\n",
       "   Citations Score  Industry Income Score  International Outlook Score  \n",
       "0             99.0                   74.9                         96.2  \n",
       "1             99.3                   49.5                         80.5  \n",
       "2             97.0                   54.2                         95.8  \n",
       "3             99.8                   65.0                         79.8  \n",
       "4             99.8                   90.9                         89.3  "
      ]
     },
     "execution_count": 3,
     "metadata": {},
     "output_type": "execute_result"
    }
   ],
   "source": [
    "df[\"International Student\"] = df[\"International Student\"].str.rstrip(\"%\")\n",
    "df.rename(columns={\"International Student\":\"Percentage International Student\"}, inplace=True)\n",
    "df.head()"
   ]
  },
  {
   "cell_type": "markdown",
   "id": "ef2248f9",
   "metadata": {},
   "source": [
    "BASIC INSPECTION OF DATA\n",
    "1 UNIQUE LOACTIONS OF UNIVERSITIES AND HOW THEY ARE DISTRIBUTED IN THE DATASET"
   ]
  },
  {
   "cell_type": "code",
   "execution_count": 6,
   "id": "5fcce8c1",
   "metadata": {},
   "outputs": [],
   "source": [
    "value = df.loc[:,\"Location\"].value_counts()\n",
    "value.to_csv(\"location distribution.csv\")"
   ]
  },
  {
   "cell_type": "code",
   "execution_count": 7,
   "id": "67fec577",
   "metadata": {},
   "outputs": [],
   "source": [
    "#Average number of students per location\n",
    "average_students_per_location = df.groupby(\"Location\", observed=False).agg({\n",
    "    \"No of student\":\"mean\"}\n",
    ").round(0).astype(int)\n",
    "average_students_per_location.to_csv(\"location average.csv\")"
   ]
  },
  {
   "cell_type": "code",
   "execution_count": 8,
   "id": "8114e1de",
   "metadata": {},
   "outputs": [
    {
     "name": "stdout",
     "output_type": "stream",
     "text": [
      "51.0:49.0\n"
     ]
    }
   ],
   "source": [
    "#AVERAGE FEMALE TO MALE RATIO\n",
    "def average_ratio(dataframe, columnname):\n",
    "    # Split the string column into two new columns\n",
    "    dataframe[[\"First\", \"Second\"]] = dataframe[columnname].str.split(\":\", expand=True)\n",
    "\n",
    "    # Convert them to numeric (in case they are strings)\n",
    "    dataframe[\"First\"] = pd.to_numeric(dataframe[\"First\"], errors=\"coerce\")\n",
    "    dataframe[\"Second\"] = pd.to_numeric(dataframe[\"Second\"], errors=\"coerce\")\n",
    "\n",
    "    # Now calculate means correctly\n",
    "    first_mean = dataframe[\"First\"].mean().round(0)\n",
    "    second_mean = dataframe[\"Second\"].mean().round(0)\n",
    "\n",
    "    return first_mean, second_mean\n",
    "\n",
    "female_ratio,male_ratio = average_ratio(df,\"Female:Male Ratio\")\n",
    "print(f\"{female_ratio}:{male_ratio}\")"
   ]
  },
  {
   "cell_type": "markdown",
   "id": "567b4217",
   "metadata": {},
   "source": []
  },
  {
   "cell_type": "markdown",
   "id": "b1461bcb",
   "metadata": {},
   "source": [
    "Country Based Analysis\n",
    "\n",
    "1. What is the average research score for universities in each country?\n",
    "\n",
    "\n",
    "2. Which countries top(5) have universities with the highest average teaching scores?\n",
    "\n",
    "\n",
    "3. Are universities in certain countries more international than others?\n",
    "\n",
    "\n",
    "4. What are the top 5 countries with the highest average citation scores?\n"
   ]
  },
  {
   "cell_type": "code",
   "execution_count": 9,
   "id": "475d7885",
   "metadata": {},
   "outputs": [],
   "source": [
    "#1\n",
    "aveargeresearch = df.groupby(\"Location\", observed=False).agg({\n",
    "    \"Research Score\":\"mean\"\n",
    "}).round(0)\n",
    "aveargeresearch.to_csv(\"averagereserachpercountry.csv\")"
   ]
  },
  {
   "cell_type": "code",
   "execution_count": 10,
   "id": "bfdcbdad",
   "metadata": {},
   "outputs": [],
   "source": [
    "#2\n",
    "mostuni = df.groupby(\"Location\", observed=False).agg({\n",
    "    \"Research Score\":\"count\"\n",
    "}).round(0)\n",
    "\n",
    "mostuni.sort_values(by=\"Research Score\", ascending=False).head(5).to_csv(\"Uni vs researchscore.csv\")"
   ]
  },
  {
   "cell_type": "code",
   "execution_count": null,
   "id": "1681cea8",
   "metadata": {},
   "outputs": [
    {
     "name": "stdout",
     "output_type": "stream",
     "text": [
      "Correlation: 0.76\n"
     ]
    },
    {
     "data": {
      "text/html": [
       "<div>\n",
       "<style scoped>\n",
       "    .dataframe tbody tr th:only-of-type {\n",
       "        vertical-align: middle;\n",
       "    }\n",
       "\n",
       "    .dataframe tbody tr th {\n",
       "        vertical-align: top;\n",
       "    }\n",
       "\n",
       "    .dataframe thead th {\n",
       "        text-align: right;\n",
       "    }\n",
       "</style>\n",
       "<table border=\"1\" class=\"dataframe\">\n",
       "  <thead>\n",
       "    <tr style=\"text-align: right;\">\n",
       "      <th></th>\n",
       "      <th>Percentage International Student</th>\n",
       "      <th>International Outlook Score</th>\n",
       "    </tr>\n",
       "    <tr>\n",
       "      <th>Location</th>\n",
       "      <th></th>\n",
       "      <th></th>\n",
       "    </tr>\n",
       "  </thead>\n",
       "  <tbody>\n",
       "    <tr>\n",
       "      <th>Northern Cyprus</th>\n",
       "      <td>78.00</td>\n",
       "      <td>92.50</td>\n",
       "    </tr>\n",
       "    <tr>\n",
       "      <th>Hong Kong</th>\n",
       "      <td>62.00</td>\n",
       "      <td>98.00</td>\n",
       "    </tr>\n",
       "    <tr>\n",
       "      <th>United Arab Emirates</th>\n",
       "      <td>51.71</td>\n",
       "      <td>91.45</td>\n",
       "    </tr>\n",
       "    <tr>\n",
       "      <th>Luxembourg</th>\n",
       "      <td>51.00</td>\n",
       "      <td>99.40</td>\n",
       "    </tr>\n",
       "    <tr>\n",
       "      <th>Switzerland</th>\n",
       "      <td>39.71</td>\n",
       "      <td>93.48</td>\n",
       "    </tr>\n",
       "  </tbody>\n",
       "</table>\n",
       "</div>"
      ],
      "text/plain": [
       "                      Percentage International Student  \\\n",
       "Location                                                 \n",
       "Northern Cyprus                                  78.00   \n",
       "Hong Kong                                        62.00   \n",
       "United Arab Emirates                             51.71   \n",
       "Luxembourg                                       51.00   \n",
       "Switzerland                                      39.71   \n",
       "\n",
       "                      International Outlook Score  \n",
       "Location                                           \n",
       "Northern Cyprus                             92.50  \n",
       "Hong Kong                                   98.00  \n",
       "United Arab Emirates                        91.45  \n",
       "Luxembourg                                  99.40  \n",
       "Switzerland                                 93.48  "
      ]
     },
     "execution_count": 9,
     "metadata": {},
     "output_type": "execute_result"
    }
   ],
   "source": [
    "#3\n",
    "df[\"Percentage International Student\"] = pd.to_numeric(df[\"Percentage International Student\"], errors=\"coerce\")\n",
    "\n",
    "\n",
    "df_grouped = df.groupby(\"Location\")[[\"Percentage International Student\", \"International Outlook Score\"]].mean().round(2)\n",
    "df_grouped = df_grouped.dropna(subset=[\"Percentage International Student\", \"International Outlook Score\"])\n",
    "df_grouped.sort_values(\"Percentage International Student\", ascending=False, inplace=True)\n",
    "\n",
    "correlation = df_grouped[\"Percentage International Student\"].corr(df_grouped[\"International Outlook Score\"])\n",
    "print(f\"Correlation: {correlation:.2f}\")\n",
    "\n",
    "\n",
    "df_grouped.to_csv(\"international_student_vs_outlook_score.csv\")\n",
    "df_grouped.head()"
   ]
  },
  {
   "cell_type": "code",
   "execution_count": null,
   "id": "776715c9",
   "metadata": {},
   "outputs": [],
   "source": [
    "#3. What are the top 5 countries with the highest average citation scores?\n",
    "top_countries = df.groupby(\"Location\", observed=False).agg({\n",
    "    \"Citations Score\": \"mean\"\n",
    "}).round(2).sort_values(by=\"Citations Score\", ascending=False).head(5)\n",
    "top_countries.to_csv(\"top_countries_by_citation_score.csv\")"
   ]
  },
  {
   "cell_type": "markdown",
   "id": "12dc291b",
   "metadata": {},
   "source": [
    "5. Which universities have high research scores but relatively low teaching scores?\n",
    "\n",
    "\n",
    "6. What is the average citation score among the top 10 ranked universities?\n",
    "\n",
    "\n",
    "7. Which universities have the highest industry income scores?\n",
    "\n"
   ]
  },
  {
   "cell_type": "code",
   "execution_count": null,
   "id": "fe13b6c9",
   "metadata": {},
   "outputs": [],
   "source": [
    "#5 Which universities have high research scores but relatively low teaching scores?\n",
    "researchscore_grouping = lambda x: \"High\" if x >= 60 else \"Low\"\n",
    "df[\"Research Score Group\"] = df[\"Research Score\"].apply(researchscore_grouping)\n",
    "teaching_score_grouping = lambda x: \"High\" if x >= 60 else \"Low\"\n",
    "df[\"Teaching Score Group\"] = df[\"Teaching Score\"].apply(teaching_score_grouping)\n",
    "\n",
    "filtered = df[(df[\"Research Score Group\"] == \"High\") & (df[\"Teaching Score Group\"] == \"Low\")][[\"Name of University\", \"Research Score\", \"Teaching Score\"]]\n",
    "filtered.to_csv(\"high_research_low_teaching.csv\", index=False)\n"
   ]
  },
  {
   "cell_type": "markdown",
   "id": "1a4739d9",
   "metadata": {},
   "source": []
  },
  {
   "cell_type": "code",
   "execution_count": null,
   "id": "c10cfdee",
   "metadata": {},
   "outputs": [
    {
     "name": "stdout",
     "output_type": "stream",
     "text": [
      "Average citation score among top 10 universities: 98.56\n"
     ]
    }
   ],
   "source": [
    "#6\n",
    "df['University Rank'] = pd.to_numeric(df['University Rank'], errors='coerce')\n",
    "top10 = df[df['University Rank'] <= 10]\n",
    "\n",
    "average_citation_score = top10['Citations Score'].mean().round(2)\n",
    "print(\"Average citation score among top 10 universities:\", average_citation_score)"
   ]
  },
  {
   "cell_type": "code",
   "execution_count": null,
   "id": "0e66940b",
   "metadata": {},
   "outputs": [],
   "source": [
    "#7. Which universities have the highest industry income scores?\n",
    "df_highest  = df.nlargest(10, \"Industry Income Score\")[[\"Name of University\", \"Industry Income Score\"]]\n",
    "df_highest.to_csv(\"highest_industry_income.csv\", index=False)"
   ]
  },
  {
   "cell_type": "markdown",
   "id": "b2aa4fbe",
   "metadata": {},
   "source": [
    "👩‍🎓 Gender and Diversity\n",
    "8. Which universities have more female students than male?\n",
    "\n",
    "\n",
    "9. What is the average international outlook score for each country?\n",
    "\n",
    "\n",
    "10. Which universities have the most gender-balanced student populations?\n"
   ]
  },
  {
   "cell_type": "code",
   "execution_count": 14,
   "id": "a1201277",
   "metadata": {},
   "outputs": [],
   "source": [
    "df[[\"First\", \"Second\"]] = df[\"Female:Male Ratio\"].str.split(\":\", expand=True).astype(float)\n",
    "\n",
    "\n",
    "more_females = df[df[\"First\"] > df[\"Second\"]][[\"Name of University\"]]\n",
    "\n",
    "# Step 3: Show the result\n",
    "more_females.to_csv(\"universities_with_more_females.csv\", index=False)"
   ]
  },
  {
   "cell_type": "code",
   "execution_count": 15,
   "id": "23055e2d",
   "metadata": {},
   "outputs": [],
   "source": [
    "# Group by country and calculate mean international outlook score\n",
    "df_average_outlook = df.groupby(\"Location\", observed=False).agg({\n",
    "    \"International Outlook Score\": \"mean\"\n",
    "})\n",
    "\n",
    "# Drop null values\n",
    "df_average_outlook = df_average_outlook.dropna()\n",
    "\n",
    "# Round to 2 decimal places\n",
    "df_average_outlook = df_average_outlook.round(2)\n",
    "\n",
    "# Display the result\n",
    "df_average_outlook.to_csv(\"average_international_outlook_score.csv\")\n"
   ]
  },
  {
   "cell_type": "code",
   "execution_count": null,
   "id": "dc0e35e1",
   "metadata": {},
   "outputs": [],
   "source": [
    "#10. Which universities have the most gender-balanced student populations?\n",
    "df[[\"First\", \"Second\"]] = df[\"Female:Male Ratio\"].str.split(\":\", expand=True).astype(float)\n",
    "equality = df[df[\"First\"] == df[\"Second\"]][[\"Name of University\"]]\n",
    "equality.reset_index(drop=True, inplace=True)\n",
    "equality.to_csv(\"50:50 universities.csv\", index=False)"
   ]
  },
  {
   "cell_type": "markdown",
   "id": "e502affa",
   "metadata": {},
   "source": [
    "🏛 Size & Resources\n",
    "\n",
    "11. What is the average number of students per university per country?\n",
    "\n",
    "\n",
    "12. Which universities have the largest student populations?\n",
    "\n",
    "\n",
    "13. Which universities have the lowest student-to-staff ratios?\n",
    "\n",
    "\n",
    "14. Which universities have more than 20,000 students and above-average research scores?\n",
    "\n"
   ]
  },
  {
   "cell_type": "code",
   "execution_count": 17,
   "id": "f6bcf4fc",
   "metadata": {},
   "outputs": [],
   "source": [
    "#21. What is the average number of students per university per country?\n",
    "average_students_per_country = df.groupby(\"Location\", observed=False).agg({\n",
    "    \"No of student\": \"mean\"\n",
    "}).round(0).astype(int)\n",
    "average_students_per_country.to_csv(\"average_students_per_country.csv\", index=False)"
   ]
  },
  {
   "cell_type": "code",
   "execution_count": 20,
   "id": "9fc70f34",
   "metadata": {},
   "outputs": [],
   "source": [
    "#Which universities have the largest student populations?\n",
    "largest_population = df.nlargest(1, \"No of student\")[[\"Name of University\", \"No of student\",\"Location\"]]\n",
    "largest_population.to_csv(\"largest_population.csv\", index=False)"
   ]
  },
  {
   "cell_type": "code",
   "execution_count": 23,
   "id": "0994a1e7",
   "metadata": {},
   "outputs": [],
   "source": [
    "#23. Which universities have the lowest student-to-staff ratios?\n",
    "lowest_student_staff_ratio = df.nsmallest(5, \"No of student per staff\")[[\"Name of University\", \"No of student per staff\", \"Location\"]]\n",
    "lowest_student_staff_ratio.to_csv(\"lowest_student_staff_ratio.csv\", index=False)"
   ]
  },
  {
   "cell_type": "code",
   "execution_count": 34,
   "id": "6c1bf0ef",
   "metadata": {},
   "outputs": [],
   "source": [
    "#25. How many universities have more than 20,000 students and above-average research scores?\n",
    "greater20 =df[(df[\"No of student\"] > 20000) & (df[\"Research Score\"] > df[\"Research Score\"].mean())][[\"Location\", \"No of student\", \"Research Score\"]].groupby(\"Location\").count()\n",
    "greater20.to_csv(\"no universities_above_20000_students.csv\", index=False)"
   ]
  },
  {
   "cell_type": "markdown",
   "id": "8b820877",
   "metadata": {},
   "source": [
    "🔁 Comparative Questions\n",
    "29. Which universities perform better in research than in teaching?"
   ]
  },
  {
   "cell_type": "code",
   "execution_count": 39,
   "id": "3f742c9b",
   "metadata": {},
   "outputs": [],
   "source": [
    "#29. Which universities perform better in research than in teaching?\n",
    "perform = df[df[\"Research Score\"] > df[\"Teaching Score\"]][[\"Name of University\"]].count()\n",
    "perform.to_csv(\"countuniversities_perform_better_in_research.csv\", index=False)"
   ]
  }
 ],
 "metadata": {
  "kernelspec": {
   "display_name": "Python 3",
   "language": "python",
   "name": "python3"
  },
  "language_info": {
   "codemirror_mode": {
    "name": "ipython",
    "version": 3
   },
   "file_extension": ".py",
   "mimetype": "text/x-python",
   "name": "python",
   "nbconvert_exporter": "python",
   "pygments_lexer": "ipython3",
   "version": "3.11.9"
  }
 },
 "nbformat": 4,
 "nbformat_minor": 5
}
